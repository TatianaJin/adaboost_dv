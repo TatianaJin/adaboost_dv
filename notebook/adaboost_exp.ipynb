{
 "cells": [
  {
   "cell_type": "code",
   "execution_count": 1,
   "metadata": {},
   "outputs": [],
   "source": [
    "from time import time\n",
    "\n",
    "from adaboost_impl import AdaBoostClassifier"
   ]
  },
  {
   "cell_type": "code",
   "execution_count": 2,
   "metadata": {},
   "outputs": [],
   "source": [
    "def example_SAMME_R(X, y, X_test, y_test):\n",
    "    clf = AdaBoostClassifier(algorithm='SAMME.R')\n",
    "    start_time = time()\n",
    "    clf.fit(X, y)\n",
    "    elapsed = time() - start_time\n",
    "    print(\"SAMME.R time=%s\" % elapsed)\n",
    "    \n",
    "    idx = 0\n",
    "    for p in clf.staged_predict(X_test):\n",
    "        error = (p != y_test).sum() / len(y_test)\n",
    "        print(\"\\t[Iter %s]: error=%s\" % (idx, error))\n",
    "        idx += 1\n",
    "    \n",
    "    return clf"
   ]
  },
  {
   "cell_type": "code",
   "execution_count": 3,
   "metadata": {},
   "outputs": [],
   "source": [
    "def example_SAMME(X, y, X_test, y_test):\n",
    "    clf = AdaBoostClassifier(algorithm='SAMME')\n",
    "    start_time = time()\n",
    "    clf.fit(X, y)\n",
    "    elapsed = time() - start_time\n",
    "    print(\"SAMME time=%s\" % elapsed)\n",
    "    \n",
    "    idx = 0\n",
    "    for p in clf.staged_predict(X_test):\n",
    "        error = (p != y_test).sum() / len(y_test)\n",
    "        print(\"\\t[Iter %s]: error=%s\" % (idx, error))\n",
    "        idx += 1\n",
    "        \n",
    "    return clf"
   ]
  },
  {
   "cell_type": "code",
   "execution_count": 4,
   "metadata": {},
   "outputs": [],
   "source": [
    "def example_BINARY(X, y, X_test, y_test):\n",
    "    clf = AdaBoostClassifier(algorithm='BINARY')\n",
    "    start_time = time()\n",
    "    clf.fit(X, y)\n",
    "    elapsed = time() - start_time\n",
    "    print(\"BINARY time=%s\" % elapsed)\n",
    "\n",
    "    idx = 0\n",
    "    for p in clf.staged_predict(X_test):\n",
    "        error = (p != y_test).sum() / len(y_test)\n",
    "        print(\"\\t[Iter %s]: error=%s\" % (idx, error))\n",
    "        idx += 1\n",
    "        \n",
    "    return clf"
   ]
  },
  {
   "cell_type": "code",
   "execution_count": 6,
   "metadata": {},
   "outputs": [],
   "source": [
    "def example_DV(X, y,\n",
    "               X_test, y_test,\n",
    "               dv_interval=50,\n",
    "               dv_max_iter=50,\n",
    "               dv_loss=\"log\",\n",
    "               dv_penalty=\"none\"):\n",
    "    clf = AdaBoostClassifier(algorithm='DYNAMIC_VOTES',\n",
    "                             dv_interval=dv_interval,\n",
    "                             dv_max_iter=dv_max_iter,\n",
    "                             dv_loss=dv_loss,\n",
    "                             dv_penalty=dv_penalty)\n",
    "    start_time = time()\n",
    "    clf.fit_test(X, y, X_test, y_test)\n",
    "    elapsed = time() - start_time\n",
    "    error = (clf.predict(X_test) != y_test).sum() / len(y_test)\n",
    "    print(\"DV error=%s, time=%s\" % (error, elapsed))\n",
    "    \n",
    "    return clf"
   ]
  }
 ],
 "metadata": {
  "kernelspec": {
   "display_name": "Python 3",
   "language": "python",
   "name": "python3"
  },
  "language_info": {
   "codemirror_mode": {
    "name": "ipython",
    "version": 3
   },
   "file_extension": ".py",
   "mimetype": "text/x-python",
   "name": "python",
   "nbconvert_exporter": "python",
   "pygments_lexer": "ipython3",
   "version": "3.6.3"
  }
 },
 "nbformat": 4,
 "nbformat_minor": 2
}
