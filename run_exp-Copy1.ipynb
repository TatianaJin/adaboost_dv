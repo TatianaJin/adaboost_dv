{
 "cells": [
  {
   "cell_type": "code",
   "execution_count": 1,
   "metadata": {},
   "outputs": [],
   "source": [
    "from sklearn.datasets import load_svmlight_file\n",
    "from sklearn.model_selection import train_test_split"
   ]
  },
  {
   "cell_type": "code",
   "execution_count": 2,
   "metadata": {},
   "outputs": [],
   "source": [
    "from adaboost_exp import *"
   ]
  },
  {
   "cell_type": "code",
   "execution_count": 3,
   "metadata": {},
   "outputs": [],
   "source": [
    "# Data path\n",
    "\n",
    "\"\"\"three datasets: a9a, breast-cancer, gisette\"\"\"\n",
    "\n",
    "data_dir = \"/home/tati/Documents/data/\"\n",
    "\n",
    "a9 = data_dir + \"a9/a9a.txt\"\n",
    "a9_test = data_dir + \"a9/a9a.t\"\n",
    "\n",
    "breast = data_dir + \"breast-cancer/breast-cancer.txt\"\n",
    "\n",
    "gisette = data_dir + \"gisette/gisette_scale\"\n",
    "gisette_test = data_dir + \"gisette/gisette_scale.t\""
   ]
  },
  {
   "cell_type": "code",
   "execution_count": null,
   "metadata": {},
   "outputs": [],
   "source": [
    "# Load a9a training and testing set\n",
    "a9 = load_svmlight_file(a9, n_features=123)\n",
    "a9_test = load_svmlight_file(a9_test, n_features=123)"
   ]
  },
  {
   "cell_type": "code",
   "execution_count": null,
   "metadata": {},
   "outputs": [],
   "source": [
    "clf = example_DV(a9[0], a9[1], a9_test[0], a9_test[1],\n",
    "           dv_interval=1,\n",
    "           dv_max_iter=100,\n",
    "           dv_loss=\"log\",\n",
    "           dv_penalty=\"none\")"
   ]
  },
  {
   "cell_type": "code",
   "execution_count": null,
   "metadata": {},
   "outputs": [],
   "source": [
    "print(clf.predicts_)"
   ]
  },
  {
   "cell_type": "code",
   "execution_count": 4,
   "metadata": {},
   "outputs": [],
   "source": [
    "# Load breast-cancer dataset and split into train/test by 0.8/0.2\n",
    "breast = load_svmlight_file(breast, n_features=10)\n",
    "breast_X, breast_X_test, breast_y, breast_y_test = train_test_split(\n",
    "    breast[0], breast[1], train_size=0.8, test_size=0.2)"
   ]
  },
  {
   "cell_type": "code",
   "execution_count": null,
   "metadata": {},
   "outputs": [],
   "source": [
    "# Load gisette training and testing set\n",
    "gisette = load_svmlight_file(gisette, n_features=5000)\n",
    "gisette_test = load_svmlight_file(gisette_test, n_features=5000)"
   ]
  },
  {
   "cell_type": "code",
   "execution_count": null,
   "metadata": {},
   "outputs": [],
   "source": [
    "example_SAMME_R(a9[0], a9[1], a9_test[0], a9_test[1])"
   ]
  },
  {
   "cell_type": "code",
   "execution_count": null,
   "metadata": {},
   "outputs": [],
   "source": [
    "example_SAMME(a9[0], a9[1], a9_test[0], a9_test[1])"
   ]
  },
  {
   "cell_type": "code",
   "execution_count": null,
   "metadata": {},
   "outputs": [],
   "source": [
    "example_BINARY(a9[0], a9[1], a9_test[0], a9_test[1])"
   ]
  },
  {
   "cell_type": "code",
   "execution_count": null,
   "metadata": {},
   "outputs": [],
   "source": [
    "example_DV(a9[0], a9[1], a9_test[0], a9_test[1],\n",
    "           dv_interval=50,\n",
    "           dv_max_iter=100,\n",
    "           dv_loss=\"log\",\n",
    "           dv_penalty=\"l2\")"
   ]
  },
  {
   "cell_type": "code",
   "execution_count": null,
   "metadata": {},
   "outputs": [],
   "source": [
    "example_SAMME_R(gisette[0], gisette[1], gisette_test[0], gisette_test[1])\n",
    "example_SAMME(gisette[0], gisette[1], gisette_test[0], gisette_test[1])\n",
    "example_BINARY(gisette[0], gisette[1], gisette_test[0], gisette_test[1])\n",
    "example_DV(gisette[0], gisette[1], gisette_test[0], gisette_test[1],\n",
    "           dv_interval=50,\n",
    "           dv_max_iter=50,\n",
    "           dv_loss=\"log\",\n",
    "           dv_penalty=\"none\")"
   ]
  },
  {
   "cell_type": "code",
   "execution_count": null,
   "metadata": {},
   "outputs": [],
   "source": [
    "example_SAMME_R(breast_X, breast_y, breast_X_test, breast_y_test)\n",
    "example_SAMME(breast_X, breast_y, breast_X_test, breast_y_test)\n",
    "example_BINARY(breast_X, breast_y, breast_X_test, breast_y_test)\n"
   ]
  },
  {
   "cell_type": "code",
   "execution_count": 5,
   "metadata": {},
   "outputs": [
    {
     "name": "stdout",
     "output_type": "stream",
     "text": [
      "[Iter 0] error=0.0641025641026\n",
      "[Iter 1] error=0.0641025641026\n",
      "[Iter 2] error=0.0604395604396\n",
      "[Iter 3] error=0.043956043956\n",
      "[Iter 4] error=0.043956043956\n",
      "[Iter 5] error=0.043956043956\n",
      "[Iter 6] error=0.043956043956\n",
      "[Iter 7] error=0.043956043956\n",
      "[Iter 8] error=0.0347985347985\n",
      "[Iter 9] error=0.03663003663\n",
      "[Iter 10] error=0.03663003663\n",
      "[Iter 11] error=0.0311355311355\n",
      "[Iter 12] error=0.0421245421245\n",
      "[Iter 13] error=0.032967032967\n",
      "[Iter 14] error=0.032967032967\n",
      "[Iter 15] error=0.032967032967\n",
      "[Iter 16] error=0.032967032967\n",
      "[Iter 17] error=0.032967032967\n",
      "[Iter 18] error=0.032967032967\n",
      "[Iter 19] error=0.0311355311355\n",
      "[Iter 20] error=0.0311355311355\n",
      "[Iter 21] error=0.0311355311355\n",
      "[Iter 22] error=0.0311355311355\n",
      "[Iter 23] error=0.0311355311355\n",
      "[Iter 24] error=0.0347985347985\n",
      "[Iter 25] error=0.0311355311355\n",
      "[Iter 26] error=0.032967032967\n",
      "[Iter 27] error=0.0311355311355\n",
      "[Iter 28] error=0.029304029304\n",
      "[Iter 29] error=0.0311355311355\n",
      "[Iter 30] error=0.029304029304\n",
      "[Iter 31] error=0.0274725274725\n",
      "[Iter 32] error=0.029304029304\n",
      "[Iter 33] error=0.0274725274725\n",
      "[Iter 34] error=0.0274725274725\n",
      "[Iter 35] error=0.0274725274725\n",
      "[Iter 36] error=0.0274725274725\n",
      "[Iter 37] error=0.0274725274725\n",
      "[Iter 38] error=0.0274725274725\n",
      "[Iter 39] error=0.0311355311355\n",
      "[Iter 40] error=0.0311355311355\n",
      "[Iter 41] error=0.0274725274725\n",
      "[Iter 42] error=0.029304029304\n",
      "[Iter 43] error=0.029304029304\n",
      "[Iter 44] error=0.029304029304\n",
      "[Iter 45] error=0.0311355311355\n",
      "[Iter 46] error=0.029304029304\n",
      "[Iter 47] error=0.0274725274725\n",
      "[Iter 48] error=0.0274725274725\n",
      "[Iter 49] Dynamically adjusting votes\n",
      "[Iter 49] error=0.1336996337\n",
      "fitting time: 0.1306438446044922s\n",
      "DV error=0.182481751825, time=0.29032039642333984\n"
     ]
    },
    {
     "name": "stderr",
     "output_type": "stream",
     "text": [
      "/home/tati/Documents/projects/adaboost-dv/adaboost_impl.py:621: RuntimeWarning: overflow encountered in exp\n",
      "  X_map.dot(self.estimator_weights_[:iboost + 1]) * y * -1\n",
      "/home/tati/Documents/projects/adaboost-dv/adaboost_impl.py:623: RuntimeWarning: invalid value encountered in true_divide\n",
      "  sample_weight /= sample_weight.sum()\n"
     ]
    },
    {
     "data": {
      "text/plain": [
       "AdaBoostClassifier(algorithm='DYNAMIC_VOTES', base_estimator=None,\n",
       "          dv_interval=50, dv_loss='log', dv_max_iter=1, dv_penalty='l2',\n",
       "          learning_rate=1, n_estimators=50, random_state=None)"
      ]
     },
     "execution_count": 5,
     "metadata": {},
     "output_type": "execute_result"
    }
   ],
   "source": [
    "example_DV(breast_X, breast_y, breast_X_test, breast_y_test,\n",
    "           dv_interval=50,\n",
    "           dv_max_iter=1,\n",
    "           dv_loss=\"log\",\n",
    "           dv_penalty=\"l2\")"
   ]
  },
  {
   "cell_type": "code",
   "execution_count": null,
   "metadata": {},
   "outputs": [],
   "source": []
  }
 ],
 "metadata": {
  "kernelspec": {
   "display_name": "Python 3",
   "language": "python",
   "name": "python3"
  },
  "language_info": {
   "codemirror_mode": {
    "name": "ipython",
    "version": 3
   },
   "file_extension": ".py",
   "mimetype": "text/x-python",
   "name": "python",
   "nbconvert_exporter": "python",
   "pygments_lexer": "ipython3",
   "version": "3.6.3"
  }
 },
 "nbformat": 4,
 "nbformat_minor": 2
}
